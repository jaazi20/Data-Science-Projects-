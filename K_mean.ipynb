{
  "nbformat": 4,
  "nbformat_minor": 0,
  "metadata": {
    "colab": {
      "name": "K-mean.ipynb",
      "provenance": [],
      "collapsed_sections": [],
      "authorship_tag": "ABX9TyOUYtYyLl5RWmsE7qrmVGwK",
      "include_colab_link": true
    },
    "kernelspec": {
      "name": "python3",
      "display_name": "Python 3"
    },
    "language_info": {
      "name": "python"
    }
  },
  "cells": [
    {
      "cell_type": "markdown",
      "metadata": {
        "id": "view-in-github",
        "colab_type": "text"
      },
      "source": [
        "<a href=\"https://colab.research.google.com/github/jaazi20/Data-Science-Projects-/blob/main/K_mean.ipynb\" target=\"_parent\"><img src=\"https://colab.research.google.com/assets/colab-badge.svg\" alt=\"Open In Colab\"/></a>"
      ]
    },
    {
      "cell_type": "code",
      "metadata": {
        "id": "blRNZDb3JAXe"
      },
      "source": [
        "import pandas as pd\n",
        "import numpy as np\n",
        "import matplotlib.pyplot as plt\n",
        "import seaborn as sns\n",
        "sns.set()"
      ],
      "execution_count": 1,
      "outputs": []
    },
    {
      "cell_type": "code",
      "metadata": {
        "id": "oyt6R3wkJejx"
      },
      "source": [
        "from sklearn.cluster import KMeans"
      ],
      "execution_count": 5,
      "outputs": []
    },
    {
      "cell_type": "code",
      "metadata": {
        "id": "VUy5b7WkKSgV"
      },
      "source": [
        "from google.colab import files"
      ],
      "execution_count": 8,
      "outputs": []
    },
    {
      "cell_type": "code",
      "metadata": {
        "colab": {
          "resources": {
            "http://localhost:8080/nbextensions/google.colab/files.js": {
              "data": "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",
              "ok": true,
              "headers": [
                [
                  "content-type",
                  "application/javascript"
                ]
              ],
              "status": 200,
              "status_text": ""
            }
          },
          "base_uri": "https://localhost:8080/",
          "height": 72
        },
        "id": "yVWD0AwlLE_J",
        "outputId": "2809f982-8a6b-4e8a-862f-acce7d6cbf54"
      },
      "source": [
        "uploaded = files.upload()"
      ],
      "execution_count": 9,
      "outputs": [
        {
          "output_type": "display_data",
          "data": {
            "text/html": [
              "\n",
              "     <input type=\"file\" id=\"files-ab9b9e36-2f54-455e-b8ae-4d8258535ba9\" name=\"files[]\" multiple disabled\n",
              "        style=\"border:none\" />\n",
              "     <output id=\"result-ab9b9e36-2f54-455e-b8ae-4d8258535ba9\">\n",
              "      Upload widget is only available when the cell has been executed in the\n",
              "      current browser session. Please rerun this cell to enable.\n",
              "      </output>\n",
              "      <script src=\"/nbextensions/google.colab/files.js\"></script> "
            ],
            "text/plain": [
              "<IPython.core.display.HTML object>"
            ]
          },
          "metadata": {
            "tags": []
          }
        },
        {
          "output_type": "stream",
          "text": [
            "Saving 3.2 Countries_exercise.csv to 3.2 Countries_exercise.csv\n"
          ],
          "name": "stdout"
        }
      ]
    },
    {
      "cell_type": "code",
      "metadata": {
        "colab": {
          "base_uri": "https://localhost:8080/"
        },
        "id": "yZ_aKXObLP9Q",
        "outputId": "c1582963-2fb7-48ee-d986-6d767cd6896e"
      },
      "source": [
        ""
      ],
      "execution_count": 10,
      "outputs": [
        {
          "output_type": "execute_result",
          "data": {
            "text/plain": [
              "{'3.2 Countries_exercise.csv': b\"name,Longitude,Latitude\\r\\nAruba,-69.98267711,12.52088038\\r\\nAfghanistan,66.00473366,33.83523073\\r\\nAngola,17.53736768,-12.29336054\\r\\nAnguilla,-63.06498927,18.2239595\\r\\nAlbania,20.04983396,41.14244989\\r\\nAland,19.95328768,60.21488688\\r\\nAndorra,1.56054378,42.54229102\\r\\nUnited Arab Emirates,54.3001671,23.90528188\\r\\nArgentina,-65.17980692,-35.3813488\\r\\nArmenia,44.92993276,40.28952569\\r\\nAmerican Samoa,-170.7180258,-14.30445997\\r\\nAntarctica,19.92108951,-80.50857913\\r\\nAshmore and Cartier Is.,123.5838379,-12.42993164\\r\\nFr. S. Antarctic Lands,69.22666758,-49.24895485\\r\\nAntigua and Barb.,-61.79469343,17.2774996\\r\\nAustralia,134.4910001,-25.73288704\\r\\nAustria,14.1264761,47.58549439\\r\\nAzerbaijan,47.54599879,40.28827235\\r\\nBurundi,29.87512156,-3.35939666\\r\\nBelgium,4.64065114,50.63981576\\r\\nBenin,2.32785254,9.6417597\\r\\nBurkina Faso,-1.75456601,12.26953846\\r\\nBangladesh,90.23812743,23.86731158\\r\\nBulgaria,25.21552909,42.76890318\\r\\nBahrain,50.54196932,26.04205135\\r\\nCanada,-98.30777028,61.36206324\\r\\nBahamas,-76.62843038,24.29036702\\r\\nBosnia and Herz.,17.76876733,44.17450125\\r\\nSt-Barth\\xc3\\x83\\xc2\\xa9lemy,-62.84067779,17.89880451\\r\\nBelarus,28.03209307,53.53131377\\r\\nBelize,-88.71010486,17.20027509\\r\\nBermuda,-64.7545589,32.31367802\\r\\nBolivia,-64.68538645,-16.70814787\\r\\nBrazil,-53.09783113,-10.78777702\\r\\nBarbados,-59.559797,13.18145428\\r\\nBrunei,114.7220304,4.51968958\\r\\nBhutan,90.40188155,27.41106589\\r\\nBotswana,23.79853368,-22.18403213\\r\\nCentral African Rep.,20.46826831,6.56823297\\r\\nSwitzerland,8.20867471,46.79785878\\r\\nChile,-71.38256213,-37.73070989\\r\\nChina,103.8190735,36.56176546\\r\\nC\\xc3\\x83\\xc2\\xb4te d'Ivoire,-5.5692157,7.6284262\\r\\nCameroon,12.73964156,5.69109849\\r\\nDem. Rep. Congo,23.64396107,-2.87746289\\r\\nCongo,15.21965762,-0.83787463\\r\\nCook Is.,-159.7872422,-21.21927288\\r\\nColombia,-73.08114582,3.91383431\\r\\nComoros,43.68253968,-11.87783444\\r\\nCape Verde,-23.9598882,15.95523324\\r\\nCosta Rica,-84.19208768,9.97634464\\r\\nCuba,-79.01605384,21.62289528\\r\\nCura\\xc3\\x83\\xc2\\xa7ao,-68.97119369,12.19551675\\r\\nCayman Is.,-80.91213321,19.42896497\\r\\nN. Cyprus,33.5684813,35.26277486\\r\\nCyprus,33.0060022,34.91667211\\r\\nCzech Rep.,15.31240163,49.73341233\\r\\nGermany,10.38578051,51.10698181\\r\\nDjibouti,42.5606754,11.74871806\\r\\nDominica,-61.357726,15.4394702\\r\\nDenmark,10.02800992,55.98125296\\r\\nDominican Rep.,-70.50568896,18.89433082\\r\\nAlgeria,2.61732301,28.15893849\\r\\nEcuador,-78.75201922,-1.42381612\\r\\nEgypt,29.86190099,26.49593311\\r\\nEritrea,38.84617011,15.36186618\\r\\nSpain,-3.64755047,40.24448698\\r\\nEstonia,25.54248537,58.67192972\\r\\nEthiopia,39.60080098,8.62278679\\r\\nFinland,26.2746656,64.49884603\\r\\nFiji,165.4519543,-17.42858032\\r\\nFalkland Is.,-59.35238956,-51.74483954\\r\\nFrance,-2.76172945,42.17344011\\r\\nFaeroe Is.,-6.88095423,62.05385403\\r\\nMicronesia,153.2394379,7.45246814\\r\\nGabon,11.7886287,-0.58660025\\r\\nUnited Kingdom,-2.86563164,54.12387156\\r\\nGeorgia,43.50780252,42.16855755\\r\\nGuernsey,-2.57239064,49.46809761\\r\\nGhana,-1.21676566,7.95345644\\r\\nGuinea,-10.94066612,10.43621593\\r\\nGambia,-15.39601295,13.44965244\\r\\nGuinea-Bissau,-14.94972445,12.04744948\\r\\nEq. Guinea,10.34137924,1.70555135\\r\\nGreece,22.95555794,39.07469623\\r\\nGrenada,-61.68220189,12.11725044\\r\\nGreenland,-41.34191127,74.71051289\\r\\nGuatemala,-90.36482009,15.69403664\\r\\nGuam,144.7679102,13.44165626\\r\\nGuyana,-58.98202459,4.79378034\\r\\nHong Kong,114.1138045,22.39827737\\r\\nHeard I. and McDonald Is.,73.5205171,-53.08724656\\r\\nHonduras,-86.6151661,14.82688165\\r\\nCroatia,16.40412899,45.08047631\\r\\nHaiti,-72.68527509,18.93502563\\r\\nHungary,19.39559116,47.16277506\\r\\nIndonesia,117.2401137,-2.21505456\\r\\nIsle of Man,-4.53873952,54.22418911\\r\\nIndia,79.6119761,22.88578212\\r\\nIndian Ocean Ter.,104.851898,-10.6478515\\r\\nBr. Indian Ocean Ter.,72.44541229,-7.33059751\\r\\nIreland,-8.13793569,53.1754487\\r\\nIran,54.27407004,32.57503292\\r\\nIraq,43.74353149,33.03970582\\r\\nIceland,-18.57396167,64.99575386\\r\\nIsrael,35.00444693,31.46110101\\r\\nItaly,12.07001339,42.79662641\\r\\nJamaica,-77.31482593,18.15694878\\r\\nJersey,-2.12689938,49.21837377\\r\\nJordan,36.77136104,31.24579091\\r\\nJapan,138.0308956,37.59230135\\r\\nSiachen Glacier,77.18011865,35.39236325\\r\\nKazakhstan,67.29149357,48.15688067\\r\\nKenya,37.79593973,0.59988022\\r\\nKyrgyzstan,74.54165513,41.46221943\\r\\nCambodia,104.9069433,12.72004786\\r\\nKiribati,-45.61110513,0.86001503\\r\\nSt. Kitts and Nevis,-62.68755265,17.2645995\\r\\nKorea,127.8391609,36.38523983\\r\\nKosovo,20.87249811,42.57078707\\r\\nKuwait,47.58700459,29.33431262\\r\\nLao PDR,103.7377241,18.50217433\\r\\nLebanon,35.88016072,33.92306631\\r\\nLiberia,-9.32207573,6.45278492\\r\\nLibya,18.00866169,27.03094495\\r\\nSaint Lucia,-60.96969923,13.89479481\\r\\nLiechtenstein,9.53574312,47.13665835\\r\\nSri Lanka,80.70108238,7.61266509\\r\\nLesotho,28.22723131,-29.58003188\\r\\nLithuania,23.88719355,55.32610984\\r\\nLuxembourg,6.07182201,49.76725361\\r\\nLatvia,24.91235983,56.85085163\\r\\nMacao,113.5093212,22.22311688\\r\\nSt-Martin,-63.05972851,18.08888611\\r\\nMorocco,-8.45615795,29.83762955\\r\\nMonaco,7.40627677,43.75274627\\r\\nMoldova,28.45673372,47.19498804\\r\\nMadagascar,46.70473674,-19.37189587\\r\\nMaldives,73.45713004,3.7287092\\r\\nMexico,-102.5234517,23.94753724\\r\\nMarshall Is.,170.3397612,7.00376358\\r\\nMacedonia,21.68211346,41.59530893\\r\\nMali,-3.54269065,17.34581581\\r\\nMalta,14.40523316,35.92149632\\r\\nMyanmar,96.48843321,21.18566599\\r\\nMontenegro,19.23883939,42.78890259\\r\\nMongolia,103.0529977,46.82681544\\r\\nN. Mariana Is.,145.6196965,15.82927563\\r\\nMozambique,35.53367543,-17.27381643\\r\\nMauritania,-10.34779815,20.25736706\\r\\nMontserrat,-62.18518546,16.73941406\\r\\nMauritius,57.57120551,-20.27768704\\r\\nMalawi,34.28935599,-13.21808088\\r\\nMalaysia,109.6976228,3.78986846\\r\\nNamibia,17.20963567,-22.13032568\\r\\nNew Caledonia,165.6849237,-21.29991806\\r\\nNiger,9.38545882,17.41912493\\r\\nNorfolk Island,167.9492168,-29.0514609\\r\\nNigeria,8.08943895,9.59411452\\r\\nNicaragua,-85.0305297,12.84709429\\r\\nNiue,-169.8699468,-19.04945708\\r\\nNetherlands,5.28144793,52.1007899\\r\\nNorway,15.34834656,68.75015572\\r\\nNepal,83.9158264,28.24891365\\r\\nNauru,166.9325682,-0.51912639\\r\\nNew Zealand,171.4849235,-41.81113557\\r\\nOman,56.09166155,20.60515333\\r\\nPakistan,69.33957937,29.9497515\\r\\nPanama,-80.11915156,8.51750797\\r\\nPitcairn Is.,-128.317042,-24.36500535\\r\\nPeru,-74.38242685,-9.15280381\\r\\nPhilippines,122.8839325,11.77536778\\r\\nPalau,134.4080797,7.28742784\\r\\nPapua New Guinea,145.2074475,-6.46416646\\r\\nPoland,19.39012835,52.12759564\\r\\nPuerto Rico,-66.47307604,18.22813055\\r\\nDem. Rep. Korea,127.1924797,40.15350311\\r\\nPortugal,-8.50104361,39.59550671\\r\\nParaguay,-58.40013703,-23.22823913\\r\\nPalestine,35.19628705,31.91613893\\r\\nFr. Polynesia,-144.9049439,-14.72227409\\r\\nQatar,51.18479632,25.30601188\\r\\nRomania,24.97293039,45.85243127\\r\\nRussia,96.68656112,61.98052209\\r\\nRwanda,29.91988515,-1.99033832\\r\\nW. Sahara,-12.21982755,24.22956739\\r\\nSaudi Arabia,44.53686271,24.12245841\\r\\nSudan,29.94046812,15.99035669\\r\\nS. Sudan,30.24790002,7.30877945\\r\\nSenegal,-14.4734924,14.36624173\\r\\nSingapore,103.8172559,1.35876087\\r\\nS. Geo. and S. Sandw. Is.,-36.43318388,-54.46488248\\r\\nSaint Helena,-9.54779416,-12.40355951\\r\\nSolomon Is.,159.6328767,-8.92178022\\r\\nSierra Leone,-11.79271247,8.56329593\\r\\nEl Salvador,-88.87164469,13.73943744\\r\\nSan Marino,12.45922334,43.94186747\\r\\nSomaliland,46.25198395,9.73345496\\r\\nSomalia,45.70714487,4.75062876\\r\\nSt. Pierre and Miquelon,-56.30319779,46.91918789\\r\\nSerbia,20.78958334,44.2215032\\r\\nS\\xc3\\x83\\xc2\\xa3o Tom\\xc3\\x83\\xc2\\xa9 and Principe,6.72429658,0.44391445\\r\\nSuriname,-55.9123457,4.13055413\\r\\nSlovakia,19.47905218,48.70547528\\r\\nSlovenia,14.80444238,46.11554772\\r\\nSweden,16.74558049,62.77966519\\r\\nSwaziland,31.4819369,-26.55843045\\r\\nSint Maarten,-63.05713363,18.05081728\\r\\nSeychelles,55.47603279,-4.66099094\\r\\nSyria,38.50788204,35.02547389\\r\\nTurks and Caicos Is.,-71.97387881,21.83047572\\r\\nChad,18.64492513,15.33333758\\r\\nTogo,0.96232845,8.52531356\\r\\nThailand,101.0028813,15.11815794\\r\\nTajikistan,71.01362631,38.5304539\\r\\nTurkmenistan,59.37100021,39.11554137\\r\\nTimor-Leste,125.8443898,-8.82889162\\r\\nTonga,-174.8098734,-20.42843174\\r\\nTrinidad and Tobago,-61.26567923,10.45733408\\r\\nTunisia,9.55288359,34.11956246\\r\\nTurkey,35.16895346,39.0616029\\r\\nTaiwan,120.9542728,23.7539928\\r\\nTanzania,34.81309981,-6.27565408\\r\\nUganda,32.36907971,1.27469299\\r\\nUkraine,31.38326469,48.99656673\\r\\nUruguay,-56.01807053,-32.79951534\\r\\nUnited States,-112.4616737,45.6795472\\r\\nUzbekistan,63.14001528,41.75554225\\r\\nVatican,12.43387177,41.90174985\\r\\nSt. Vin. and Gren.,-61.20129695,13.22472269\\r\\nVenezuela,-66.18184123,7.12422421\\r\\nBritish Virgin Is.,-64.47146992,18.52585755\\r\\nU.S. Virgin Is.,-64.80301538,17.95500624\\r\\nVietnam,106.299147,16.6460167\\r\\nVanuatu,167.6864464,-16.22640909\\r\\nWallis and Futuna Is.,-177.3483483,-13.88737039\\r\\nSamoa,-172.1648506,-13.75324346\\r\\nYemen,47.58676189,15.90928005\\r\\nSouth Africa,25.08390093,-29.00034095\\r\\nZambia,27.77475946,-13.45824152\\r\\nZimbabwe,29.8514412,-19.00420419\\r\\n\"}"
            ]
          },
          "metadata": {
            "tags": []
          },
          "execution_count": 10
        }
      ]
    },
    {
      "cell_type": "code",
      "metadata": {
        "id": "udMu4JCELp5_"
      },
      "source": [
        "import io\n",
        "df2 = pd.read_csv(io.BytesIO(uploaded['3.2 Countries_exercise.csv']))"
      ],
      "execution_count": 11,
      "outputs": []
    },
    {
      "cell_type": "code",
      "metadata": {
        "colab": {
          "base_uri": "https://localhost:8080/",
          "height": 204
        },
        "id": "BsyH90XvMZyj",
        "outputId": "205597f5-36d9-4bbb-f77c-fabc1e8f646d"
      },
      "source": [
        "df2.tail()"
      ],
      "execution_count": 34,
      "outputs": [
        {
          "output_type": "execute_result",
          "data": {
            "text/html": [
              "<div>\n",
              "<style scoped>\n",
              "    .dataframe tbody tr th:only-of-type {\n",
              "        vertical-align: middle;\n",
              "    }\n",
              "\n",
              "    .dataframe tbody tr th {\n",
              "        vertical-align: top;\n",
              "    }\n",
              "\n",
              "    .dataframe thead th {\n",
              "        text-align: right;\n",
              "    }\n",
              "</style>\n",
              "<table border=\"1\" class=\"dataframe\">\n",
              "  <thead>\n",
              "    <tr style=\"text-align: right;\">\n",
              "      <th></th>\n",
              "      <th>name</th>\n",
              "      <th>Longitude</th>\n",
              "      <th>Latitude</th>\n",
              "    </tr>\n",
              "  </thead>\n",
              "  <tbody>\n",
              "    <tr>\n",
              "      <th>236</th>\n",
              "      <td>Samoa</td>\n",
              "      <td>-172.164851</td>\n",
              "      <td>-13.753243</td>\n",
              "    </tr>\n",
              "    <tr>\n",
              "      <th>237</th>\n",
              "      <td>Yemen</td>\n",
              "      <td>47.586762</td>\n",
              "      <td>15.909280</td>\n",
              "    </tr>\n",
              "    <tr>\n",
              "      <th>238</th>\n",
              "      <td>South Africa</td>\n",
              "      <td>25.083901</td>\n",
              "      <td>-29.000341</td>\n",
              "    </tr>\n",
              "    <tr>\n",
              "      <th>239</th>\n",
              "      <td>Zambia</td>\n",
              "      <td>27.774759</td>\n",
              "      <td>-13.458242</td>\n",
              "    </tr>\n",
              "    <tr>\n",
              "      <th>240</th>\n",
              "      <td>Zimbabwe</td>\n",
              "      <td>29.851441</td>\n",
              "      <td>-19.004204</td>\n",
              "    </tr>\n",
              "  </tbody>\n",
              "</table>\n",
              "</div>"
            ],
            "text/plain": [
              "             name   Longitude   Latitude\n",
              "236         Samoa -172.164851 -13.753243\n",
              "237         Yemen   47.586762  15.909280\n",
              "238  South Africa   25.083901 -29.000341\n",
              "239        Zambia   27.774759 -13.458242\n",
              "240      Zimbabwe   29.851441 -19.004204"
            ]
          },
          "metadata": {
            "tags": []
          },
          "execution_count": 34
        }
      ]
    },
    {
      "cell_type": "code",
      "metadata": {
        "colab": {
          "base_uri": "https://localhost:8080/",
          "height": 268
        },
        "id": "njurGad4Ma8_",
        "outputId": "0e1aa1ad-806d-473f-df0a-61bbb2651b7d"
      },
      "source": [
        "plt.scatter(df2['Longitude'],df2['Latitude'])\n",
        "plt.xlim(-180,180)\n",
        "plt.ylim(-90,90)\n",
        "plt.show()"
      ],
      "execution_count": 18,
      "outputs": [
        {
          "output_type": "display_data",
          "data": {
            "image/png": "[encoded data removed]",
            "text/plain": [
              "<Figure size 432x288 with 1 Axes>"
            ]
          },
          "metadata": {
            "tags": [],
            "needs_background": "light"
          }
        }
      ]
    },
    {
      "cell_type": "code",
      "metadata": {
        "colab": {
          "base_uri": "https://localhost:8080/",
          "height": 419
        },
        "id": "vKDwMTnyMwUZ",
        "outputId": "37f12e65-0c59-463f-9028-f239e5c61c82"
      },
      "source": [
        "x = df2.iloc[:,1:3]\n",
        "x"
      ],
      "execution_count": 41,
      "outputs": [
        {
          "output_type": "execute_result",
          "data": {
            "text/html": [
              "<div>\n",
              "<style scoped>\n",
              "    .dataframe tbody tr th:only-of-type {\n",
              "        vertical-align: middle;\n",
              "    }\n",
              "\n",
              "    .dataframe tbody tr th {\n",
              "        vertical-align: top;\n",
              "    }\n",
              "\n",
              "    .dataframe thead th {\n",
              "        text-align: right;\n",
              "    }\n",
              "</style>\n",
              "<table border=\"1\" class=\"dataframe\">\n",
              "  <thead>\n",
              "    <tr style=\"text-align: right;\">\n",
              "      <th></th>\n",
              "      <th>Longitude</th>\n",
              "      <th>Latitude</th>\n",
              "    </tr>\n",
              "  </thead>\n",
              "  <tbody>\n",
              "    <tr>\n",
              "      <th>0</th>\n",
              "      <td>-69.982677</td>\n",
              "      <td>12.520880</td>\n",
              "    </tr>\n",
              "    <tr>\n",
              "      <th>1</th>\n",
              "      <td>66.004734</td>\n",
              "      <td>33.835231</td>\n",
              "    </tr>\n",
              "    <tr>\n",
              "      <th>2</th>\n",
              "      <td>17.537368</td>\n",
              "      <td>-12.293361</td>\n",
              "    </tr>\n",
              "    <tr>\n",
              "      <th>3</th>\n",
              "      <td>-63.064989</td>\n",
              "      <td>18.223959</td>\n",
              "    </tr>\n",
              "    <tr>\n",
              "      <th>4</th>\n",
              "      <td>20.049834</td>\n",
              "      <td>41.142450</td>\n",
              "    </tr>\n",
              "    <tr>\n",
              "      <th>...</th>\n",
              "      <td>...</td>\n",
              "      <td>...</td>\n",
              "    </tr>\n",
              "    <tr>\n",
              "      <th>236</th>\n",
              "      <td>-172.164851</td>\n",
              "      <td>-13.753243</td>\n",
              "    </tr>\n",
              "    <tr>\n",
              "      <th>237</th>\n",
              "      <td>47.586762</td>\n",
              "      <td>15.909280</td>\n",
              "    </tr>\n",
              "    <tr>\n",
              "      <th>238</th>\n",
              "      <td>25.083901</td>\n",
              "      <td>-29.000341</td>\n",
              "    </tr>\n",
              "    <tr>\n",
              "      <th>239</th>\n",
              "      <td>27.774759</td>\n",
              "      <td>-13.458242</td>\n",
              "    </tr>\n",
              "    <tr>\n",
              "      <th>240</th>\n",
              "      <td>29.851441</td>\n",
              "      <td>-19.004204</td>\n",
              "    </tr>\n",
              "  </tbody>\n",
              "</table>\n",
              "<p>241 rows × 2 columns</p>\n",
              "</div>"
            ],
            "text/plain": [
              "      Longitude   Latitude\n",
              "0    -69.982677  12.520880\n",
              "1     66.004734  33.835231\n",
              "2     17.537368 -12.293361\n",
              "3    -63.064989  18.223959\n",
              "4     20.049834  41.142450\n",
              "..          ...        ...\n",
              "236 -172.164851 -13.753243\n",
              "237   47.586762  15.909280\n",
              "238   25.083901 -29.000341\n",
              "239   27.774759 -13.458242\n",
              "240   29.851441 -19.004204\n",
              "\n",
              "[241 rows x 2 columns]"
            ]
          },
          "metadata": {
            "tags": []
          },
          "execution_count": 41
        }
      ]
    },
    {
      "cell_type": "code",
      "metadata": {
        "id": "yvYeSZ3AOGe1"
      },
      "source": [
        "kmeans =KMeans(5)"
      ],
      "execution_count": 27,
      "outputs": []
    },
    {
      "cell_type": "code",
      "metadata": {
        "colab": {
          "base_uri": "https://localhost:8080/"
        },
        "id": "Hogp8DjcORE_",
        "outputId": "03179a37-7a44-45d8-fedc-e7141d42c56f"
      },
      "source": [
        "kmeans.fit(x)"
      ],
      "execution_count": 28,
      "outputs": [
        {
          "output_type": "execute_result",
          "data": {
            "text/plain": [
              "KMeans(algorithm='auto', copy_x=True, init='k-means++', max_iter=300,\n",
              "       n_clusters=5, n_init=10, n_jobs=None, precompute_distances='auto',\n",
              "       random_state=None, tol=0.0001, verbose=0)"
            ]
          },
          "metadata": {
            "tags": []
          },
          "execution_count": 28
        }
      ]
    },
    {
      "cell_type": "code",
      "metadata": {
        "id": "UvJpE_9DO4BA"
      },
      "source": [
        "identified_cluster = kmeans.fit_predict(x)"
      ],
      "execution_count": 29,
      "outputs": []
    },
    {
      "cell_type": "code",
      "metadata": {
        "colab": {
          "base_uri": "https://localhost:8080/"
        },
        "id": "t_3OQ8XEPEDq",
        "outputId": "8cc68cbd-9216-495a-b988-8d1d2156f46d"
      },
      "source": [
        "identified_cluster"
      ],
      "execution_count": 30,
      "outputs": [
        {
          "output_type": "execute_result",
          "data": {
            "text/plain": [
              "array([2, 0, 0, 2, 4, 4, 4, 0, 2, 0, 1, 0, 3, 0, 2, 3, 4, 0, 0, 4, 4, 4,\n",
              "       3, 4, 0, 2, 2, 4, 2, 4, 2, 2, 2, 2, 2, 3, 3, 0, 0, 4, 2, 3, 4, 0,\n",
              "       0, 0, 1, 2, 0, 4, 2, 2, 2, 2, 4, 4, 4, 4, 0, 2, 4, 2, 4, 2, 0, 0,\n",
              "       4, 4, 0, 4, 3, 2, 4, 4, 3, 0, 4, 0, 4, 4, 4, 4, 4, 0, 4, 2, 4, 2,\n",
              "       3, 2, 3, 0, 2, 4, 2, 4, 3, 4, 0, 3, 0, 4, 0, 0, 4, 0, 4, 2, 4, 0,\n",
              "       3, 0, 0, 0, 0, 3, 2, 2, 3, 4, 0, 3, 0, 4, 4, 2, 4, 0, 0, 4, 4, 4,\n",
              "       3, 2, 4, 4, 4, 0, 0, 2, 3, 4, 4, 4, 3, 4, 3, 3, 0, 4, 2, 0, 0, 3,\n",
              "       0, 3, 4, 3, 4, 2, 1, 4, 4, 0, 3, 3, 0, 0, 2, 1, 2, 3, 3, 3, 4, 2,\n",
              "       3, 4, 2, 0, 1, 0, 4, 3, 0, 4, 0, 0, 0, 4, 3, 2, 4, 3, 4, 2, 4, 0,\n",
              "       0, 2, 4, 0, 2, 4, 4, 4, 0, 2, 0, 0, 2, 0, 4, 3, 0, 0, 3, 1, 2, 4,\n",
              "       4, 3, 0, 0, 4, 2, 2, 0, 4, 2, 2, 2, 2, 3, 3, 1, 1, 0, 0, 0, 0],\n",
              "      dtype=int32)"
            ]
          },
          "metadata": {
            "tags": []
          },
          "execution_count": 30
        }
      ]
    },
    {
      "cell_type": "code",
      "metadata": {
        "colab": {
          "base_uri": "https://localhost:8080/",
          "height": 419
        },
        "id": "8IaVhH9DPN39",
        "outputId": "9223755a-ac97-44bf-aadf-06215b85c524"
      },
      "source": [
        "data_with_cluster = df2.copy()\n",
        "data_with_cluster['Cluster'] = identified_cluster\n",
        "data_with_cluster"
      ],
      "execution_count": 31,
      "outputs": [
        {
          "output_type": "execute_result",
          "data": {
            "text/html": [
              "<div>\n",
              "<style scoped>\n",
              "    .dataframe tbody tr th:only-of-type {\n",
              "        vertical-align: middle;\n",
              "    }\n",
              "\n",
              "    .dataframe tbody tr th {\n",
              "        vertical-align: top;\n",
              "    }\n",
              "\n",
              "    .dataframe thead th {\n",
              "        text-align: right;\n",
              "    }\n",
              "</style>\n",
              "<table border=\"1\" class=\"dataframe\">\n",
              "  <thead>\n",
              "    <tr style=\"text-align: right;\">\n",
              "      <th></th>\n",
              "      <th>name</th>\n",
              "      <th>Longitude</th>\n",
              "      <th>Latitude</th>\n",
              "      <th>Cluster</th>\n",
              "    </tr>\n",
              "  </thead>\n",
              "  <tbody>\n",
              "    <tr>\n",
              "      <th>0</th>\n",
              "      <td>Aruba</td>\n",
              "      <td>-69.982677</td>\n",
              "      <td>12.520880</td>\n",
              "      <td>2</td>\n",
              "    </tr>\n",
              "    <tr>\n",
              "      <th>1</th>\n",
              "      <td>Afghanistan</td>\n",
              "      <td>66.004734</td>\n",
              "      <td>33.835231</td>\n",
              "      <td>0</td>\n",
              "    </tr>\n",
              "    <tr>\n",
              "      <th>2</th>\n",
              "      <td>Angola</td>\n",
              "      <td>17.537368</td>\n",
              "      <td>-12.293361</td>\n",
              "      <td>0</td>\n",
              "    </tr>\n",
              "    <tr>\n",
              "      <th>3</th>\n",
              "      <td>Anguilla</td>\n",
              "      <td>-63.064989</td>\n",
              "      <td>18.223959</td>\n",
              "      <td>2</td>\n",
              "    </tr>\n",
              "    <tr>\n",
              "      <th>4</th>\n",
              "      <td>Albania</td>\n",
              "      <td>20.049834</td>\n",
              "      <td>41.142450</td>\n",
              "      <td>4</td>\n",
              "    </tr>\n",
              "    <tr>\n",
              "      <th>...</th>\n",
              "      <td>...</td>\n",
              "      <td>...</td>\n",
              "      <td>...</td>\n",
              "      <td>...</td>\n",
              "    </tr>\n",
              "    <tr>\n",
              "      <th>236</th>\n",
              "      <td>Samoa</td>\n",
              "      <td>-172.164851</td>\n",
              "      <td>-13.753243</td>\n",
              "      <td>1</td>\n",
              "    </tr>\n",
              "    <tr>\n",
              "      <th>237</th>\n",
              "      <td>Yemen</td>\n",
              "      <td>47.586762</td>\n",
              "      <td>15.909280</td>\n",
              "      <td>0</td>\n",
              "    </tr>\n",
              "    <tr>\n",
              "      <th>238</th>\n",
              "      <td>South Africa</td>\n",
              "      <td>25.083901</td>\n",
              "      <td>-29.000341</td>\n",
              "      <td>0</td>\n",
              "    </tr>\n",
              "    <tr>\n",
              "      <th>239</th>\n",
              "      <td>Zambia</td>\n",
              "      <td>27.774759</td>\n",
              "      <td>-13.458242</td>\n",
              "      <td>0</td>\n",
              "    </tr>\n",
              "    <tr>\n",
              "      <th>240</th>\n",
              "      <td>Zimbabwe</td>\n",
              "      <td>29.851441</td>\n",
              "      <td>-19.004204</td>\n",
              "      <td>0</td>\n",
              "    </tr>\n",
              "  </tbody>\n",
              "</table>\n",
              "<p>241 rows × 4 columns</p>\n",
              "</div>"
            ],
            "text/plain": [
              "             name   Longitude   Latitude  Cluster\n",
              "0           Aruba  -69.982677  12.520880        2\n",
              "1     Afghanistan   66.004734  33.835231        0\n",
              "2          Angola   17.537368 -12.293361        0\n",
              "3        Anguilla  -63.064989  18.223959        2\n",
              "4         Albania   20.049834  41.142450        4\n",
              "..            ...         ...        ...      ...\n",
              "236         Samoa -172.164851 -13.753243        1\n",
              "237         Yemen   47.586762  15.909280        0\n",
              "238  South Africa   25.083901 -29.000341        0\n",
              "239        Zambia   27.774759 -13.458242        0\n",
              "240      Zimbabwe   29.851441 -19.004204        0\n",
              "\n",
              "[241 rows x 4 columns]"
            ]
          },
          "metadata": {
            "tags": []
          },
          "execution_count": 31
        }
      ]
    },
    {
      "cell_type": "code",
      "metadata": {
        "colab": {
          "base_uri": "https://localhost:8080/",
          "height": 268
        },
        "id": "jSv6X6ezP8Vl",
        "outputId": "d9265e5e-decc-4779-b293-5712a747b0e1"
      },
      "source": [
        "plt.scatter(data_with_cluster['Longitude'],data_with_cluster['Latitude'], c=data_with_cluster['Cluster'],cmap = 'rainbow')\n",
        "plt.xlim(-180,180)\n",
        "plt.ylim(-90,90)\n",
        "plt.show()"
      ],
      "execution_count": 32,
      "outputs": [
        {
          "output_type": "display_data",
          "data": {
            "image/png": "[encoded data removed]",
            "text/plain": [
              "<Figure size 432x288 with 1 Axes>"
            ]
          },
          "metadata": {
            "tags": [],
            "needs_background": "light"
          }
        }
      ]
    },
    {
      "cell_type": "code",
      "metadata": {
        "colab": {
          "base_uri": "https://localhost:8080/"
        },
        "id": "UQ5uCFxLQhku",
        "outputId": "1df16c7b-19ed-49d0-bd26-a2ff1dcdfb49"
      },
      "source": [
        "kmeans.inertia_"
      ],
      "execution_count": 33,
      "outputs": [
        {
          "output_type": "execute_result",
          "data": {
            "text/plain": [
              "192194.9829002524"
            ]
          },
          "metadata": {
            "tags": []
          },
          "execution_count": 33
        }
      ]
    },
    {
      "cell_type": "code",
      "metadata": {
        "id": "QBRXO1_GR8Qj"
      },
      "source": [
        "wcss =[]\n",
        "for i in range(1,241):\n",
        "  kmeans =KMeans(i)\n",
        "  kmeans.fit(x)\n",
        "  w_iter = kmeans.inertia_\n",
        "  wcss.append(w_iter)\n"
      ],
      "execution_count": 37,
      "outputs": []
    },
    {
      "cell_type": "code",
      "metadata": {
        "colab": {
          "base_uri": "https://localhost:8080/",
          "height": 279
        },
        "id": "05suHEbdSqeO",
        "outputId": "dab240cd-966a-4930-e313-76f01bc73ad5"
      },
      "source": [
        "no_of_cluster = range(1,241)\n",
        "plt.plot(no_of_cluster,wcss)\n",
        "plt.show()"
      ],
      "execution_count": 38,
      "outputs": [
        {
          "output_type": "display_data",
          "data": {
            "image/png": "[encoded data removed]",
            "text/plain": [
              "<Figure size 432x288 with 1 Axes>"
            ]
          },
          "metadata": {
            "tags": [],
            "needs_background": "light"
          }
        }
      ]
    },
    {
      "cell_type": "code",
      "metadata": {
        "colab": {
          "base_uri": "https://localhost:8080/"
        },
        "id": "ykKEjV9kTsgQ",
        "outputId": "ef824af5-29bf-4db7-bc97-b653b692268a"
      },
      "source": [
        "wcss"
      ],
      "execution_count": 39,
      "outputs": [
        {
          "output_type": "execute_result",
          "data": {
            "text/plain": [
              "[1413859.6798344273,\n",
              " 657012.0797586325,\n",
              " 325235.52237055893,\n",
              " 256595.2235602978,\n",
              " 192212.4818949704,\n",
              " 151410.08098853042,\n",
              " 127519.42818664196,\n",
              " 102913.61962302422,\n",
              " 84945.19461239543,\n",
              " 76481.27401279478,\n",
              " 70976.53154009004,\n",
              " 64644.88722109366,\n",
              " 60641.25026186636,\n",
              " 54901.22934493944,\n",
              " 52477.306405203395,\n",
              " 47042.292722726685,\n",
              " 45770.10801369805,\n",
              " 42456.6143593687,\n",
              " 38941.297255660305,\n",
              " 36923.99238973514,\n",
              " 33939.47922091954,\n",
              " 32543.577447408446,\n",
              " 30237.135275025816,\n",
              " 28251.57969799367,\n",
              " 26289.08698138852,\n",
              " 25778.21124653075,\n",
              " 24763.725040501697,\n",
              " 23735.99487892399,\n",
              " 21489.61011033533,\n",
              " 20825.841723383855,\n",
              " 19514.605341679882,\n",
              " 18513.60041321114,\n",
              " 17927.633254705543,\n",
              " 17308.261739994323,\n",
              " 16386.0343827616,\n",
              " 15775.934695074355,\n",
              " 15000.506922226647,\n",
              " 14420.784712952138,\n",
              " 13948.884203785452,\n",
              " 12844.592419334778,\n",
              " 12886.779916238298,\n",
              " 12071.835108152585,\n",
              " 11649.268644578111,\n",
              " 11477.90374496279,\n",
              " 10579.654705816054,\n",
              " 10809.295684391473,\n",
              " 10044.838451920003,\n",
              " 10053.59581170905,\n",
              " 9858.503905061734,\n",
              " 9528.843776676342,\n",
              " 8985.89884777086,\n",
              " 8544.497957185475,\n",
              " 8436.461524701346,\n",
              " 8182.676135377533,\n",
              " 8039.139088609482,\n",
              " 7734.671495581711,\n",
              " 7636.327608559226,\n",
              " 7381.030602279344,\n",
              " 6989.00098115315,\n",
              " 6807.299199285289,\n",
              " 6643.236901733451,\n",
              " 6592.557392629577,\n",
              " 6410.134841057829,\n",
              " 6181.792288444708,\n",
              " 5816.58346327883,\n",
              " 5796.630275476127,\n",
              " 5509.031309409417,\n",
              " 5279.600079393668,\n",
              " 5071.402018962298,\n",
              " 5206.036426575994,\n",
              " 4945.52497856951,\n",
              " 4736.301948017141,\n",
              " 4597.375545283468,\n",
              " 4613.519249097005,\n",
              " 4537.056004011491,\n",
              " 4374.5248688949505,\n",
              " 4238.430959040763,\n",
              " 4100.218131387679,\n",
              " 3965.14517566265,\n",
              " 3806.189281741181,\n",
              " 3847.084709438433,\n",
              " 3692.3149809144275,\n",
              " 3454.6648384826103,\n",
              " 3490.3072789211906,\n",
              " 3345.7958946543513,\n",
              " 3321.0769870239887,\n",
              " 3047.1949989328205,\n",
              " 3018.1218466571067,\n",
              " 3053.087745535125,\n",
              " 2990.120621260702,\n",
              " 2856.3865805112173,\n",
              " 2686.4096745507118,\n",
              " 2727.1445618643565,\n",
              " 2587.788408009241,\n",
              " 2604.9153141094675,\n",
              " 2624.63470107795,\n",
              " 2471.927043103529,\n",
              " 2424.840116343822,\n",
              " 2420.5869961384587,\n",
              " 2202.9271122491473,\n",
              " 2231.3231868836747,\n",
              " 2199.9433571985096,\n",
              " 2085.6103522889152,\n",
              " 1994.6761278131812,\n",
              " 2016.170630806334,\n",
              " 1929.482407183672,\n",
              " 1885.3344222551586,\n",
              " 1796.571273162383,\n",
              " 1778.4769530402416,\n",
              " 1691.07814176186,\n",
              " 1732.4318330754577,\n",
              " 1659.6778379657223,\n",
              " 1593.113568546848,\n",
              " 1553.7041280596113,\n",
              " 1468.1517082284145,\n",
              " 1445.6871163361984,\n",
              " 1430.9874662913094,\n",
              " 1327.760234093867,\n",
              " 1358.4098374402263,\n",
              " 1350.009438822902,\n",
              " 1281.9433362903935,\n",
              " 1273.302009149047,\n",
              " 1193.0427316079008,\n",
              " 1137.673815769601,\n",
              " 1113.8213175412484,\n",
              " 1122.1258020350742,\n",
              " 1079.1847628872601,\n",
              " 1031.452254514584,\n",
              " 1023.560697851462,\n",
              " 994.1113349842681,\n",
              " 938.1284425120507,\n",
              " 904.3736568494286,\n",
              " 857.1395013482474,\n",
              " 887.1786769802873,\n",
              " 830.5881723378767,\n",
              " 821.0837080016888,\n",
              " 778.7155875962424,\n",
              " 774.4178502881306,\n",
              " 737.3267367485943,\n",
              " 714.8421544863814,\n",
              " 689.4986643073303,\n",
              " 690.6488003179284,\n",
              " 650.3609590877811,\n",
              " 650.1753201811654,\n",
              " 629.7796811289538,\n",
              " 604.3453799424183,\n",
              " 580.9903496652455,\n",
              " 570.3645385805492,\n",
              " 527.868878180854,\n",
              " 523.5640028397922,\n",
              " 501.1109347127497,\n",
              " 494.92849391768857,\n",
              " 465.6242895226695,\n",
              " 446.85972390995823,\n",
              " 441.67528928140734,\n",
              " 434.35224283960537,\n",
              " 402.64895303335913,\n",
              " 387.1764921046668,\n",
              " 394.0234988898734,\n",
              " 377.71780471703767,\n",
              " 349.2576926201166,\n",
              " 348.34265832805056,\n",
              " 328.80877300442876,\n",
              " 316.37478623400443,\n",
              " 308.73634886718565,\n",
              " 297.8760938934472,\n",
              " 291.77903649193564,\n",
              " 273.9489418799177,\n",
              " 249.76397182960474,\n",
              " 252.76442725659683,\n",
              " 239.40263660325846,\n",
              " 229.40213589252488,\n",
              " 214.53635667316132,\n",
              " 209.17308831127062,\n",
              " 197.467673312492,\n",
              " 182.71568774764236,\n",
              " 179.08821351595805,\n",
              " 175.7061185133103,\n",
              " 172.34881970974538,\n",
              " 153.796282168654,\n",
              " 150.41988598633336,\n",
              " 144.2935413909113,\n",
              " 131.97881632311112,\n",
              " 128.0246707794222,\n",
              " 117.98292420722085,\n",
              " 114.05637410699887,\n",
              " 110.5736245522516,\n",
              " 104.01549297553291,\n",
              " 98.4503977959169,\n",
              " 93.95689399417525,\n",
              " 88.60128438719326,\n",
              " 82.99283271056053,\n",
              " 76.06324408531694,\n",
              " 75.67160878612465,\n",
              " 69.59254873610259,\n",
              " 66.28274417840476,\n",
              " 62.00971139810313,\n",
              " 59.89128362572937,\n",
              " 56.34264180405276,\n",
              " 51.470003690881384,\n",
              " 51.64840030282946,\n",
              " 46.285615844852856,\n",
              " 44.71947224513235,\n",
              " 41.22311619098204,\n",
              " 39.67824257804327,\n",
              " 35.76173001243195,\n",
              " 33.499829755027285,\n",
              " 31.142971434778616,\n",
              " 30.29510153010957,\n",
              " 27.544178154864923,\n",
              " 24.95893212664558,\n",
              " 23.13089418270871,\n",
              " 21.411165653689373,\n",
              " 20.18293919916009,\n",
              " 17.790428114003287,\n",
              " 17.010970034805233,\n",
              " 15.678769710647074,\n",
              " 13.756707896421805,\n",
              " 12.17742944297413,\n",
              " 10.515181247252764,\n",
              " 9.242648265341236,\n",
              " 8.275264009556878,\n",
              " 6.850632588621719,\n",
              " 5.912684731895665,\n",
              " 4.974522473239045,\n",
              " 4.1289324273815415,\n",
              " 3.3254151190947994,\n",
              " 2.7609350187639725,\n",
              " 2.2834446921005327,\n",
              " 1.8168462029337038,\n",
              " 1.4486640354769742,\n",
              " 1.1973469605217284,\n",
              " 0.9763369235964257,\n",
              " 0.7582519978492409,\n",
              " 0.5403551927615756,\n",
              " 0.34231456414362027,\n",
              " 0.2119023346432546,\n",
              " 0.08997126450348436,\n",
              " 0.01658946830933003,\n",
              " 0.0007279846098916333]"
            ]
          },
          "metadata": {
            "tags": []
          },
          "execution_count": 39
        }
      ]
    },
    {
      "cell_type": "code",
      "metadata": {
        "id": "EGKgXwkoUyaH"
      },
      "source": [
        ""
      ],
      "execution_count": null,
      "outputs": []
    }
  ]
}